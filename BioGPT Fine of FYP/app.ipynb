{
 "cells": [
  {
   "cell_type": "code",
   "execution_count": 36,
   "metadata": {},
   "outputs": [
    {
     "name": "stdout",
     "output_type": "stream",
     "text": [
      "Requirement already satisfied: transformers in c:\\users\\muhammad ahmad\\appdata\\local\\programs\\python\\python310\\lib\\site-packages (4.49.0)"
     ]
    },
    {
     "name": "stderr",
     "output_type": "stream",
     "text": [
      "\n",
      "[notice] A new release of pip available: 22.3.1 -> 25.0.1\n",
      "[notice] To update, run: python.exe -m pip install --upgrade pip\n"
     ]
    },
    {
     "name": "stdout",
     "output_type": "stream",
     "text": [
      "\n",
      "Requirement already satisfied: peft in c:\\users\\muhammad ahmad\\appdata\\local\\programs\\python\\python310\\lib\\site-packages (0.14.0)\n",
      "Requirement already satisfied: torch in c:\\users\\muhammad ahmad\\appdata\\local\\programs\\python\\python310\\lib\\site-packages (2.5.1+cu118)\n",
      "Requirement already satisfied: sacremoses in c:\\users\\muhammad ahmad\\appdata\\local\\programs\\python\\python310\\lib\\site-packages (0.1.1)\n",
      "Requirement already satisfied: pyyaml>=5.1 in c:\\users\\muhammad ahmad\\appdata\\local\\programs\\python\\python310\\lib\\site-packages (from transformers) (6.0.2)\n",
      "Requirement already satisfied: tokenizers<0.22,>=0.21 in c:\\users\\muhammad ahmad\\appdata\\local\\programs\\python\\python310\\lib\\site-packages (from transformers) (0.21.0)\n",
      "Requirement already satisfied: huggingface-hub<1.0,>=0.26.0 in c:\\users\\muhammad ahmad\\appdata\\local\\programs\\python\\python310\\lib\\site-packages (from transformers) (0.29.2)\n",
      "Requirement already satisfied: packaging>=20.0 in c:\\users\\muhammad ahmad\\appdata\\local\\programs\\python\\python310\\lib\\site-packages (from transformers) (24.2)\n",
      "Requirement already satisfied: tqdm>=4.27 in c:\\users\\muhammad ahmad\\appdata\\local\\programs\\python\\python310\\lib\\site-packages (from transformers) (4.67.1)\n",
      "Requirement already satisfied: safetensors>=0.4.1 in c:\\users\\muhammad ahmad\\appdata\\local\\programs\\python\\python310\\lib\\site-packages (from transformers) (0.5.3)\n",
      "Requirement already satisfied: filelock in c:\\users\\muhammad ahmad\\appdata\\local\\programs\\python\\python310\\lib\\site-packages (from transformers) (3.13.1)\n",
      "Requirement already satisfied: requests in c:\\users\\muhammad ahmad\\appdata\\local\\programs\\python\\python310\\lib\\site-packages (from transformers) (2.32.3)\n",
      "Requirement already satisfied: regex!=2019.12.17 in c:\\users\\muhammad ahmad\\appdata\\local\\programs\\python\\python310\\lib\\site-packages (from transformers) (2024.11.6)\n",
      "Requirement already satisfied: numpy>=1.17 in c:\\users\\muhammad ahmad\\appdata\\local\\programs\\python\\python310\\lib\\site-packages (from transformers) (2.1.2)\n",
      "Requirement already satisfied: accelerate>=0.21.0 in c:\\users\\muhammad ahmad\\appdata\\local\\programs\\python\\python310\\lib\\site-packages (from peft) (1.4.0)\n",
      "Requirement already satisfied: psutil in c:\\users\\muhammad ahmad\\appdata\\local\\programs\\python\\python310\\lib\\site-packages (from peft) (7.0.0)\n",
      "Requirement already satisfied: jinja2 in c:\\users\\muhammad ahmad\\appdata\\local\\programs\\python\\python310\\lib\\site-packages (from torch) (3.1.3)\n",
      "Requirement already satisfied: networkx in c:\\users\\muhammad ahmad\\appdata\\local\\programs\\python\\python310\\lib\\site-packages (from torch) (3.3)\n",
      "Requirement already satisfied: sympy==1.13.1 in c:\\users\\muhammad ahmad\\appdata\\local\\programs\\python\\python310\\lib\\site-packages (from torch) (1.13.1)\n",
      "Requirement already satisfied: typing-extensions>=4.8.0 in c:\\users\\muhammad ahmad\\appdata\\local\\programs\\python\\python310\\lib\\site-packages (from torch) (4.12.2)\n",
      "Requirement already satisfied: fsspec in c:\\users\\muhammad ahmad\\appdata\\local\\programs\\python\\python310\\lib\\site-packages (from torch) (2024.6.1)\n",
      "Requirement already satisfied: mpmath<1.4,>=1.1.0 in c:\\users\\muhammad ahmad\\appdata\\local\\programs\\python\\python310\\lib\\site-packages (from sympy==1.13.1->torch) (1.3.0)\n",
      "Requirement already satisfied: joblib in c:\\users\\muhammad ahmad\\appdata\\local\\programs\\python\\python310\\lib\\site-packages (from sacremoses) (1.4.2)\n",
      "Requirement already satisfied: click in c:\\users\\muhammad ahmad\\appdata\\local\\programs\\python\\python310\\lib\\site-packages (from sacremoses) (8.1.8)\n",
      "Requirement already satisfied: colorama in c:\\users\\muhammad ahmad\\appdata\\local\\programs\\python\\python310\\lib\\site-packages (from tqdm>=4.27->transformers) (0.4.6)\n",
      "Requirement already satisfied: MarkupSafe>=2.0 in c:\\users\\muhammad ahmad\\appdata\\local\\programs\\python\\python310\\lib\\site-packages (from jinja2->torch) (2.1.5)\n",
      "Requirement already satisfied: charset-normalizer<4,>=2 in c:\\users\\muhammad ahmad\\appdata\\local\\programs\\python\\python310\\lib\\site-packages (from requests->transformers) (3.4.1)\n",
      "Requirement already satisfied: certifi>=2017.4.17 in c:\\users\\muhammad ahmad\\appdata\\local\\programs\\python\\python310\\lib\\site-packages (from requests->transformers) (2025.1.31)\n",
      "Requirement already satisfied: urllib3<3,>=1.21.1 in c:\\users\\muhammad ahmad\\appdata\\local\\programs\\python\\python310\\lib\\site-packages (from requests->transformers) (2.3.0)\n",
      "Requirement already satisfied: idna<4,>=2.5 in c:\\users\\muhammad ahmad\\appdata\\local\\programs\\python\\python310\\lib\\site-packages (from requests->transformers) (3.10)\n"
     ]
    }
   ],
   "source": [
    "!pip install transformers peft torch sacremoses"
   ]
  },
  {
   "cell_type": "code",
   "execution_count": 3,
   "metadata": {},
   "outputs": [
    {
     "name": "stderr",
     "output_type": "stream",
     "text": [
      "c:\\Users\\Muhammad Ahmad\\AppData\\Local\\Programs\\Python\\Python310\\lib\\site-packages\\tqdm\\auto.py:21: TqdmWarning: IProgress not found. Please update jupyter and ipywidgets. See https://ipywidgets.readthedocs.io/en/stable/user_install.html\n",
      "  from .autonotebook import tqdm as notebook_tqdm\n"
     ]
    }
   ],
   "source": [
    "import torch\n",
    "from transformers import AutoModelForCausalLM, AutoTokenizer\n",
    "from peft import PeftModel\n",
    "import sacremoses"
   ]
  },
  {
   "cell_type": "code",
   "execution_count": 4,
   "metadata": {},
   "outputs": [],
   "source": [
    "\n",
    "# Load base model (BioGPT)\n",
    "base_model_name = \"microsoft/biogpt\"\n",
    "tokenizer = AutoTokenizer.from_pretrained(base_model_name)\n",
    "\n",
    "# Set the adapter path (folder containing saved files)\n",
    "adapter_path = \"C:/Users/Muhammad Ahmad/Downloads/BioGPT Fine of FYP/model\""
   ]
  },
  {
   "cell_type": "code",
   "execution_count": 5,
   "metadata": {},
   "outputs": [],
   "source": [
    "# Load base model on CPU\n",
    "base_model = AutoModelForCausalLM.from_pretrained(base_model_name, torch_dtype=torch.float32).to(\"cpu\")\n",
    "\n",
    "# Load the LoRA adapter\n",
    "model = PeftModel.from_pretrained(base_model, adapter_path)\n",
    "model = model.to(\"cpu\")  # Ensure model runs on CPU"
   ]
  },
  {
   "cell_type": "code",
   "execution_count": 6,
   "metadata": {},
   "outputs": [],
   "source": [
    "\n",
    "\n",
    "# Function to generate responses\n",
    "def generate_response(prompt):\n",
    "    inputs = tokenizer(prompt, return_tensors=\"pt\").to(\"cpu\")\n",
    "    output = model.generate(\n",
    "        **inputs, \n",
    "        max_length=200, \n",
    "        temperature=0.8,  # Increase randomness\n",
    "        top_p=0.9,  # Nucleus sampling for diverse output\n",
    "        do_sample=True  # Enable sampling instead of greedy decoding\n",
    "    )\n",
    "    return tokenizer.decode(output[0], skip_special_tokens=True)\n",
    "\n",
    "\n",
    "# Example usage\n",
    "prompt = \"Child is 1 years old, height 77 cm, weight 10 kg, sex Female. Last week's diet: High-calorie snacks and processed food..\\nAnswer:\"\n",
    "response = generate_response(prompt)\n",
    "#print(response)\n"
   ]
  },
  {
   "cell_type": "code",
   "execution_count": 7,
   "metadata": {},
   "outputs": [
    {
     "name": "stdout",
     "output_type": "stream",
     "text": [
      "Malnutrition Risk Level: Risk of Overweight (Based on BMI-for-age percentile and growth chart analysis)\n",
      "Key Deficiency Noticed: - Potential deficiency of fiber and essential vitamins. - Increased risk of metabolic disorders due to excessive high-calorie intake.\n",
      "Immediate Advice: - Reduce consumption of processed foods, sugary snacks, and high-fat meals. - Encourage daily physical activity, such as outdoor play and simple exercises. - Introduce fiber-rich foods such as fruits, vegetables, and whole grains. - Ensure proper hydration and limit sugary drinks. - Establish structured meal times with balanced nutrition. - Establish structured meal times with balanced nutrition. - Ensure proper hydration and limit sugary drinks. - Establish structured meal size and phase-specific meals for daily physical\n"
     ]
    }
   ],
   "source": [
    "def extract_and_format_answer(response):\n",
    "  \"\"\"\n",
    "  Extracts the answer and formats it into separate points.\n",
    "\n",
    "  Args:\n",
    "    response: The input string containing the answer.\n",
    "  \"\"\"\n",
    "  answer_index = response.find(\"Answer:\")\n",
    "  if answer_index != -1:\n",
    "    answer_text = response[answer_index + len(\"Answer:\"):].strip()\n",
    "\n",
    "    risk_level_index = answer_text.find(\"Malnutrition Risk Level:\")\n",
    "    deficiency_index = answer_text.find(\"Key Deficiency Noticed:\")\n",
    "    advice_index = answer_text.find(\"Immediate Advice:\")\n",
    "\n",
    "    if risk_level_index != -1 and deficiency_index != -1 and advice_index != -1:\n",
    "      risk_level = answer_text[risk_level_index:deficiency_index].strip()\n",
    "      deficiency = answer_text[deficiency_index:advice_index].strip()\n",
    "      advice = answer_text[advice_index:].strip()\n",
    "\n",
    "      print(risk_level)\n",
    "      print(deficiency)\n",
    "      print(advice)\n",
    "    else:\n",
    "      print(answer_text) # Print as is if keywords are missing or out of order.\n",
    "  else:\n",
    "    print(\"Answer: keyword not found.\")\n",
    "\n",
    "# Example usage with your provided paragraph:\n",
    "\n",
    "extract_and_format_answer(response)\n"
   ]
  }
 ],
 "metadata": {
  "kernelspec": {
   "display_name": "Python 3",
   "language": "python",
   "name": "python3"
  },
  "language_info": {
   "codemirror_mode": {
    "name": "ipython",
    "version": 3
   },
   "file_extension": ".py",
   "mimetype": "text/x-python",
   "name": "python",
   "nbconvert_exporter": "python",
   "pygments_lexer": "ipython3",
   "version": "3.10.10"
  }
 },
 "nbformat": 4,
 "nbformat_minor": 2
}
